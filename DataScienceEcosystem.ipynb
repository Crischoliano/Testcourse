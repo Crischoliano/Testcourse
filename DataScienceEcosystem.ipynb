{
 "cells": [
  {
   "cell_type": "markdown",
   "id": "337be095-2a30-4191-9708-c7cfb9219519",
   "metadata": {
    "tags": []
   },
   "source": [
    "# Data Science Tools and Ecosystem"
   ]
  },
  {
   "cell_type": "markdown",
   "id": "baca1a4c-77bd-4dd5-8358-7fb6c2508bb6",
   "metadata": {
    "tags": []
   },
   "source": [
    "## In this notebook, Data Science Tools and Ecosystem are summarized."
   ]
  },
  {
   "cell_type": "markdown",
   "id": "15e1289b-1c41-4521-a5d5-58e9770b04f5",
   "metadata": {},
   "source": [
    "### Some of the popular languages that Data Scientists use are: R and phyton."
   ]
  },
  {
   "cell_type": "markdown",
   "id": "140870fb-1cac-42ce-8b4c-f1f1ab405fbe",
   "metadata": {
    "tags": []
   },
   "source": [
    "#### Some of the commonly used libraries used by Data Scientists include: ggplot2 y plotly."
   ]
  },
  {
   "cell_type": "markdown",
   "id": "c6c88330-20e3-4566-bd6c-bee8ec4e4e2c",
   "metadata": {
    "tags": []
   },
   "source": [
    "\n",
    "| tools |\n",
    "|-------|\n",
    "| numpy |\n",
    "| Pandas |"
   ]
  },
  {
   "cell_type": "markdown",
   "id": "11310bba-2092-4747-84c9-1a8fd0b209d1",
   "metadata": {},
   "source": [
    "### Below are a few examples of evaluating arithmetic expressions in Python\n",
    "\n",
    "```python\n",
    "result = 5 + 3\n",
    "print(result)  # Output: 8"
   ]
  },
  {
   "cell_type": "code",
   "execution_count": 6,
   "id": "bd24761c-fbff-44c4-ab9b-1553e9af32ce",
   "metadata": {
    "tags": []
   },
   "outputs": [
    {
     "name": "stdout",
     "output_type": "stream",
     "text": [
      "8\n"
     ]
    }
   ],
   "source": [
    "result = 5+3\n",
    "print(result)"
   ]
  },
  {
   "cell_type": "code",
   "execution_count": 7,
   "id": "d88f9f59-4b9e-4dec-a403-47d227da4bd7",
   "metadata": {
    "tags": []
   },
   "outputs": [
    {
     "name": "stdout",
     "output_type": "stream",
     "text": [
      "17\n"
     ]
    }
   ],
   "source": [
    "result= (3*4)+5\n",
    "print(result)\n",
    "\n",
    "# This a simple arithmetic expression to mutiply then add integers"
   ]
  },
  {
   "cell_type": "code",
   "execution_count": 8,
   "id": "194f077d-7203-49d8-8853-e54ef5bcfcfd",
   "metadata": {
    "tags": []
   },
   "outputs": [
    {
     "name": "stdout",
     "output_type": "stream",
     "text": [
      "3.3333333333333335\n"
     ]
    }
   ],
   "source": [
    "hour=(200/60)\n",
    "print(hour)"
   ]
  },
  {
   "cell_type": "markdown",
   "id": "790a3363-197b-4531-b02d-d084cc888451",
   "metadata": {},
   "source": [
    "#### This will convert 200 minutes to hours by diving by 60"
   ]
  },
  {
   "cell_type": "markdown",
   "id": "1077849a-74e5-404c-937f-a641156099bc",
   "metadata": {},
   "source": [
    "### *Objetives*\n",
    "#### List popular languages for Data Science\n",
    "\n",
    "- R.\n",
    "- Phyton.\n",
    "- Apache."
   ]
  },
  {
   "cell_type": "markdown",
   "id": "9035a521-3b07-422b-a799-36ccdc387f62",
   "metadata": {},
   "source": [
    "## Author\n",
    "Cristian Parra"
   ]
  }
 ],
 "metadata": {
  "kernelspec": {
   "display_name": "Python",
   "language": "python",
   "name": "conda-env-python-py"
  },
  "language_info": {
   "codemirror_mode": {
    "name": "ipython",
    "version": 3
   },
   "file_extension": ".py",
   "mimetype": "text/x-python",
   "name": "python",
   "nbconvert_exporter": "python",
   "pygments_lexer": "ipython3",
   "version": "3.7.12"
  }
 },
 "nbformat": 4,
 "nbformat_minor": 5
}
